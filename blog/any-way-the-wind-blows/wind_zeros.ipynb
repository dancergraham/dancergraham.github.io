{
 "cells": [
  {
   "cell_type": "markdown",
   "metadata": {},
   "source": [
    "# Adding leading zeros with Python\n",
    "Various ways to add leading zeros to a number, for instance a wind direction, using Python.  [Available as a Jupyter Notebook](wind_zeros.ipynb)\n",
    "\n",
    "## generate a list of wind directions\n",
    "First some definitions. The wind direction is measured in degrees clockwise from north and represents the direction the wind is blowing __from__. For instance an easterly wind, ie wind blowing __from__ the east has a direction of 90 degrees. Let's generate 16 wind directions from 0 (north) to 337.5 (north by northwest). \n"
   ]
  },
  {
   "cell_type": "code",
   "execution_count": 1,
   "metadata": {},
   "outputs": [
    {
     "name": "stdout",
     "output_type": "stream",
     "text": [
      "[0.0, 22.5, 45.0, 67.5, 90.0, 112.5, 135.0, 157.5, 180.0, 202.5, 225.0, 247.5, 270.0, 292.5, 315.0, 337.5]\n"
     ]
    }
   ],
   "source": [
    "interval = 22.5\n",
    "assert 360 % interval < 0.001\n",
    "\n",
    "directions = [interval * x for x in range(0,int(360/interval))]\n",
    "print(directions)"
   ]
  },
  {
   "cell_type": "markdown",
   "metadata": {},
   "source": [
    "## string zfill method\n",
    "No doubt the most pythonic way to add leading zeros to a bare string, the built-in `str.zfill()` method is designed to do just that. "
   ]
  },
  {
   "cell_type": "code",
   "execution_count": 2,
   "metadata": {},
   "outputs": [
    {
     "name": "stdout",
     "output_type": "stream",
     "text": [
      "000 000.0\n",
      "022 022.5\n",
      "045 045.0\n",
      "067 067.5\n",
      "090 090.0\n",
      "112 112.5\n",
      "135 135.0\n",
      "157 157.5\n",
      "180 180.0\n",
      "202 202.5\n",
      "225 225.0\n",
      "247 247.5\n",
      "270 270.0\n",
      "292 292.5\n",
      "315 315.0\n",
      "337 337.5\n"
     ]
    }
   ],
   "source": [
    "for direction in directions:\n",
    "    print(str(int(direction)).zfill(3), str(direction).zfill(5))"
   ]
  },
  {
   "cell_type": "markdown",
   "metadata": {},
   "source": [
    "We can immediately see our first quirk: the integer representation truncates decimal values rather than rounding up (as I learned to do at school) or rounding towards the nearest even number ([as the Python round() funtion would do](https://realpython.com/python-rounding/)).\n",
    "\n",
    "\t\n",
    "## String slicing\n",
    "Very fast and arguably even more readable for people with a good understanding of basic python syntax but no desire to read the docs or explore the obscure corners of the language. Add the maximum possible number of leading zeros and then slice the desired number of digits. "
   ]
  },
  {
   "cell_type": "code",
   "execution_count": 3,
   "metadata": {},
   "outputs": [
    {
     "name": "stdout",
     "output_type": "stream",
     "text": [
      "000 000.0\n",
      "022 022.5\n",
      "045 045.0\n",
      "067 067.5\n",
      "090 090.0\n",
      "112 112.5\n",
      "135 135.0\n",
      "157 157.5\n",
      "180 180.0\n",
      "202 202.5\n",
      "225 225.0\n",
      "247 247.5\n",
      "270 270.0\n",
      "292 292.5\n",
      "315 315.0\n",
      "337 337.5\n"
     ]
    }
   ],
   "source": [
    "for direction in directions:\n",
    "    print(('00'+str(int(direction)))[-3:],\n",
    "    ('00'+str(direction))[-5:])"
   ]
  },
  {
   "cell_type": "markdown",
   "metadata": {},
   "source": [
    "## String format : integers\n",
    "As part of a longer string this allows the  number to be inserted with leading zeros. Compatible with all current versions of Python. \n",
    "\n",
    "\t"
   ]
  },
  {
   "cell_type": "code",
   "execution_count": 4,
   "metadata": {},
   "outputs": [
    {
     "name": "stdout",
     "output_type": "stream",
     "text": [
      "As integer: 000  |  As float: 000.0\n",
      "As integer: 022  |  As float: 022.5\n",
      "As integer: 045  |  As float: 045.0\n",
      "As integer: 067  |  As float: 067.5\n",
      "As integer: 090  |  As float: 090.0\n",
      "As integer: 112  |  As float: 112.5\n",
      "As integer: 135  |  As float: 135.0\n",
      "As integer: 157  |  As float: 157.5\n",
      "As integer: 180  |  As float: 180.0\n",
      "As integer: 202  |  As float: 202.5\n",
      "As integer: 225  |  As float: 225.0\n",
      "As integer: 247  |  As float: 247.5\n",
      "As integer: 270  |  As float: 270.0\n",
      "As integer: 292  |  As float: 292.5\n",
      "As integer: 315  |  As float: 315.0\n",
      "As integer: 337  |  As float: 337.5\n"
     ]
    }
   ],
   "source": [
    "for direction in directions:\n",
    "    print('As integer: {:03d}  |  As float: {:05.1f}'.format(int(direction), direction))"
   ]
  },
  {
   "cell_type": "markdown",
   "metadata": {},
   "source": [
    "## F Strings\n",
    "From Python 3.6 this is even terser."
   ]
  },
  {
   "cell_type": "code",
   "execution_count": 6,
   "metadata": {},
   "outputs": [
    {
     "name": "stdout",
     "output_type": "stream",
     "text": [
      "As integer: 000  |  As float: 000.0\n",
      "As integer: 022  |  As float: 022.5\n",
      "As integer: 045  |  As float: 045.0\n",
      "As integer: 067  |  As float: 067.5\n",
      "As integer: 090  |  As float: 090.0\n",
      "As integer: 112  |  As float: 112.5\n",
      "As integer: 135  |  As float: 135.0\n",
      "As integer: 157  |  As float: 157.5\n",
      "As integer: 180  |  As float: 180.0\n",
      "As integer: 202  |  As float: 202.5\n",
      "As integer: 225  |  As float: 225.0\n",
      "As integer: 247  |  As float: 247.5\n",
      "As integer: 270  |  As float: 270.0\n",
      "As integer: 292  |  As float: 292.5\n",
      "As integer: 315  |  As float: 315.0\n",
      "As integer: 337  |  As float: 337.5\n"
     ]
    }
   ],
   "source": [
    "for direction in directions:\n",
    "    print(f'As integer: {int(direction):03d}  |  As float: {direction:05.1f}')"
   ]
  },
  {
   "cell_type": "markdown",
   "metadata": {},
   "source": [
    "## Class\n",
    "By overloading the built-in `__str__()` method for the class we can create our own custom string representation of the value. \n"
   ]
  },
  {
   "cell_type": "code",
   "execution_count": null,
   "metadata": {},
   "outputs": [],
   "source": [
    "class WindRecord(int):\n",
    "    def __init__(self, direction):\n",
    "        self.direction = direction\n",
    "\n",
    "    def __str__(self):\n",
    "        return f'Wind direction: {self.direction:05.1f} degrees'\n",
    "\n",
    "\n",
    "for direction in directions:\n",
    "    d = WindRecord(direction)\n",
    "    print(d)"
   ]
  }
 ],
 "metadata": {
  "kernelspec": {
   "display_name": "Python 3",
   "language": "python",
   "name": "python3"
  },
  "language_info": {
   "codemirror_mode": {
    "name": "ipython",
    "version": 3
   },
   "file_extension": ".py",
   "mimetype": "text/x-python",
   "name": "python",
   "nbconvert_exporter": "python",
   "pygments_lexer": "ipython3",
   "version": "3.7.1"
  }
 },
 "nbformat": 4,
 "nbformat_minor": 2
}
